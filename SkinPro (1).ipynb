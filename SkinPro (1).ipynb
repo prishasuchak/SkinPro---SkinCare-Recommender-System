{
  "nbformat": 4,
  "nbformat_minor": 0,
  "metadata": {
    "colab": {
      "provenance": []
    },
    "kernelspec": {
      "name": "python3",
      "display_name": "Python 3"
    },
    "language_info": {
      "name": "python"
    }
  },
  "cells": [
    {
      "cell_type": "code",
      "execution_count": 1,
      "metadata": {
        "colab": {
          "base_uri": "https://localhost:8080/"
        },
        "id": "9cQIWOv4Ojes",
        "outputId": "73207949-6a41-4ed2-baac-5c32c0a10c1b"
      },
      "outputs": [
        {
          "output_type": "stream",
          "name": "stderr",
          "text": [
            "/usr/local/lib/python3.12/dist-packages/huggingface_hub/utils/_auth.py:94: UserWarning: \n",
            "The secret `HF_TOKEN` does not exist in your Colab secrets.\n",
            "To authenticate with the Hugging Face Hub, create a token in your settings tab (https://huggingface.co/settings/tokens), set it as secret in your Google Colab and restart your session.\n",
            "You will be able to reuse this secret in all of your notebooks.\n",
            "Please note that authentication is recommended but still optional to access public models or datasets.\n",
            "  warnings.warn(\n"
          ]
        },
        {
          "output_type": "stream",
          "name": "stdout",
          "text": [
            "Enter your skin concerns (comma-separated, e.g., 'best sunscreen for dry skin, serum for acne'): serum for wrinkles for dry skin\n",
            "\n",
            "🔹 **Top Recommendations for:** 'serum for wrinkles for dry skin'\n",
            "\n",
            "+----------------------------------------------------------------------------------------------+----------------------+-------------------------+---------------------------------------------------------------------------------------------------------------------------------------------------------------------------------------------------------------------------------------------------------------------------------------------------------------------------------------------+\n",
            "|                                           Product                                            |      Skin type       |         Concern         |                                                                                                                                                                 product_url                                                                                                                                                                 |\n",
            "+----------------------------------------------------------------------------------------------+----------------------+-------------------------+---------------------------------------------------------------------------------------------------------------------------------------------------------------------------------------------------------------------------------------------------------------------------------------------------------------------------------------------+\n",
            "|                 Juicy Chemistry Australian Sandalwood and Myrrh Night Cream                  |         Dry          |      Skin soothing      |                                                                https://juicychemistry.com/products/australian-sandalwood-myrrh-organic-night-cream?_gl=1*ji2umm*_up*MQ..&gclid=Cj0KCQjwwMqvBhCtARIsAIXsZpb0jr4uesg30h3aiCH1DGMydepES8mZOPnTrS3ZFMKg6g0sn8UcG0oaAnB6EALw_wcB                                                                 |\n",
            "|                              Malazia HYDRA VEIL GEL MOISTURIZER                              |         Dry          |          Acne           |                                                                                                                                    https://theformularx.com/products/malazia-hydra-veil-gel-moisturizer                                                                                                                                     |\n",
            "|                            Plum Hello Aloe Caring Day Moisturizer                            | Dry,Normal,Sensitive |      Skin soothing      |                                                                                                                                     https://plumgoodness.com/products/hello-aloe-caring-day-moisturizer                                                                                                                                     |\n",
            "| The Derma Co Pore Minimizing Daily Face Moisturizer with 3% Niacinamide 3% PHA and p-REFINYL |         Dry          |          Pores          |                                                                                                             https://thedermaco.com/product/pore-minimizing-daily-face-moisturizer-with-3-niacinamide-3-pha-and-p-refinylr-50-g                                                                                                              |\n",
            "|                                        Sorilast Cream                                        |         Dry          |  Exfoliation,Hydration  |                                                                                                                                              https://www.1mg.com/otc/sorilast-cream-otc846238                                                                                                                                               |\n",
            "|                               Fixderma Shadow  SPF 50 + Cream                                |    Dry,Sensitive     |     Sun protection      |                                                                                                                                https://www.fixderma.com/products/shadow-sunscreen-for-dry-skin-spf-50-cream                                                                                                                                 |\n",
            "|                           Venusia Max Intensive Moisturizing Cream                           |         Dry          |     Acne,Hydration      |                                              https://dermatics.in/products/venusia-max-intensiv-moisturizing-cream-150gm-for-dry-and-very-dry-skin?variant=42218979492093&currency=INR&utm_medium=product_sync&utm_source=google&utm_content=sag_organic&utm_campaign=sag_organic&gad_source=1                                              |\n",
            "|       Rivona HA Aqua Moisturizing Cream with 2% Hyaluronic Acid and Cucumber Extracts        |         Dry          |        Hydration        |                                                                                                                                             https://rivona.in/products/aqua-moisturizing-cream                                                                                                                                              |\n",
            "|                       Requil Ceramide and Hyaluronic acid moisturizer                        |         Dry          |        Hydration        | https://www.reequil.com/products/ceramide-hyaluronic-acid-moisturiser-for-normal-to-dry-skin?variant=32318313791620&currency=INR&utm_medium=product_sync&utm_source=google&utm_content=sag_organic&utm_campaign=sag_organic&gad_source=1&gclid=Cj0KCQiA5-uuBhDzARIsAAa21T9PTTnZe-Ei_eTypZ28QZn0BrTzN3PhI--m_snHhkVltD3jks-cQagaAu5KEALw_wcB |\n",
            "|                                        Ceratop Cream                                         |      Dry,Normal      | Hydration,Skin soothing |                                                                                                            https://www.1mg.com/otc/ceratop-cream-for-dry-skin-nourishes-hydrates-the-skin-otc376250?wpsrc=Google+Organic+Search                                                                                                             |\n",
            "+----------------------------------------------------------------------------------------------+----------------------+-------------------------+---------------------------------------------------------------------------------------------------------------------------------------------------------------------------------------------------------------------------------------------------------------------------------------------------------------------------------------------+\n",
            "\n",
            "🔍 **Model Performance (Based on Your Queries):**\n",
            "📌 Mean Reciprocal Rank (MRR): 1.000\n",
            "📌 Precision@5: 0.400\n"
          ]
        }
      ],
      "source": [
        "import pandas as pd\n",
        "from sentence_transformers import SentenceTransformer\n",
        "from sklearn.metrics.pairwise import cosine_similarity\n",
        "import numpy as np\n",
        "from tabulate import tabulate  # For formatted output\n",
        "\n",
        "# Load dataset\n",
        "file_path = \"skinpro.csv\"\n",
        "df = pd.read_csv(file_path)\n",
        "\n",
        "# Extract product type from product name\n",
        "def get_product_type(name):\n",
        "    name = name.lower()\n",
        "    if \"serum\" in name:\n",
        "        return \"serum\"\n",
        "    elif \"mask\" in name:\n",
        "        return \"mask\"\n",
        "    elif \"moisturizer\" in name or \"cream\" in name:\n",
        "        return \"moisturizer\"\n",
        "    elif \"face wash\" in name or \"cleanser\" in name:\n",
        "        return \"face wash\"\n",
        "    elif \"toner\" in name:\n",
        "        return \"toner\"\n",
        "    elif \"sunscreen\" in name:\n",
        "        return \"sunscreen\"\n",
        "    else:\n",
        "        return \"other\"\n",
        "\n",
        "df[\"Product_Type\"] = df[\"Product\"].apply(get_product_type)\n",
        "df['combined_text'] = df['Product_Type'] + \" \" + df['Skin type'].fillna('') + \" \" + df['Concern'].fillna('')\n",
        "\n",
        "# Load Sentence-BERT model\n",
        "model = SentenceTransformer('all-MiniLM-L6-v2')\n",
        "\n",
        "# Compute embeddings for all products\n",
        "product_embeddings = model.encode(df['combined_text'].tolist(), convert_to_tensor=True)\n",
        "\n",
        "def recommend_products(user_query, top_n=10):\n",
        "    # Compute user embedding\n",
        "    user_embedding = model.encode([user_query], convert_to_tensor=True)\n",
        "\n",
        "    # Compute cosine similarity\n",
        "    similarities = cosine_similarity(user_embedding.cpu().numpy(), product_embeddings.cpu().numpy())[0]\n",
        "\n",
        "    # Get top N recommendations\n",
        "    top_indices = similarities.argsort()[-top_n:][::-1]\n",
        "    recommended_products = df.iloc[top_indices][['Product', 'Skin type', 'Concern', 'product_url']]\n",
        "\n",
        "    return recommended_products, similarities[top_indices]\n",
        "\n",
        "def calculate_model_accuracy(queries):\n",
        "    \"\"\"Compute accuracy dynamically for given user queries.\"\"\"\n",
        "    mrr_total = 0\n",
        "    precision_at_5_total = 0\n",
        "\n",
        "    for query in queries:\n",
        "        _, similarities = recommend_products(query, top_n=5)\n",
        "\n",
        "        # Ensure similarities are numeric\n",
        "        similarities = np.array(similarities, dtype=float)\n",
        "\n",
        "        # Count relevant recommendations (similarity > 0.6)\n",
        "        relevant_count = np.sum(similarities > 0.6)\n",
        "        precision_at_5_total += relevant_count / 5\n",
        "\n",
        "        # Compute reciprocal rank\n",
        "        relevant_indices = np.where(similarities > 0.6)[0]\n",
        "        reciprocal_rank = 1 / (relevant_indices[0] + 1) if len(relevant_indices) > 0 else 0\n",
        "        mrr_total += reciprocal_rank\n",
        "\n",
        "    mrr_score = mrr_total / len(queries)\n",
        "    precision_at_5_score = precision_at_5_total / len(queries)\n",
        "\n",
        "    return mrr_score, precision_at_5_score\n",
        "\n",
        "# Get user input (support multiple concerns)\n",
        "user_input = input(\"Enter your skin concerns (comma-separated, e.g., 'best sunscreen for dry skin, serum for acne'): \")\n",
        "user_queries = [query.strip() for query in user_input.split(\",\")]\n",
        "\n",
        "# Get recommendations for each query\n",
        "for query in user_queries:\n",
        "    recommendations, _ = recommend_products(query)\n",
        "\n",
        "    print(f\"\\n🔹 **Top Recommendations for:** '{query}'\\n\")\n",
        "    print(tabulate(recommendations, headers=\"keys\", tablefmt=\"pretty\", showindex=False))\n",
        "\n",
        "# Compute & print overall model accuracy dynamically\n",
        "mrr, precision_at_5 = calculate_model_accuracy(user_queries)\n",
        "print(f\"\\n🔍 **Model Performance (Based on Your Queries):**\")\n",
        "print(f\"📌 Mean Reciprocal Rank (MRR): {mrr:.3f}\")\n",
        "print(f\"📌 Precision@5: {precision_at_5:.3f}\")\n"
      ]
    },
    {
      "cell_type": "code",
      "source": [],
      "metadata": {
        "id": "Vcal5H_nOl1V"
      },
      "execution_count": 1,
      "outputs": []
    }
  ]
}